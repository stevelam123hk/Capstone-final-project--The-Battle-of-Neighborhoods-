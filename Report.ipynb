{
 "cells": [
  {
   "cell_type": "markdown",
   "metadata": {},
   "source": [
    "Final Report – The Battle of Neighborhoods Finding a good location for a church in Yuen Long, Hong Kong\n",
    "\n",
    "1. Introduction:\n",
    "The purpose of this Project is to help my friend in exploring a good locations for buiilding their second branch church in Yuen Long. \n",
    "\n",
    "Lots of people in Yuen Long comes from other districts on the weekend.Therefore, searching a neighborhood packed with people is not difficult.\n",
    "\n",
    "In fact,because there are so many commerical properties in Yuen Long,it is good to find a location build a church in this area as more people will notice the church when they walk by. \n",
    "\n",
    "\n",
    "\n",
    "2. Data Section\n",
    "\n",
    "Foursquare API Data:\n",
    "We will need data about different venues in different neighborhoods in Yuen Long. In order to gain that information we will use \"Foursquare\" locational information. Foursquare is a location data provider with information about all manner of venues and events within an area of interest. Such information includes venue names, locations, menus and even photos. As such, the foursquare location platform will be used as the sole data source since all the stated required information can be obtained through the API.\n",
    "\n",
    "After finding the list of neighborhoods, we then connect to the Foursquare API to gather information about venues inside each and every neighborhood. For each neighborhood, we have chosen the radius to be 100 meter.\n",
    "\n",
    "The data retrieved from Foursquare contained information of venues within a specified distance of the longitude and latitude of the postcodes. The information obtained per venue as follows:\n",
    "\n",
    "1. Neighborhood\n",
    "2. Neighborhood Latitude\n",
    "3. Neighborhood Longitude\n",
    "4. Venue\n",
    "5. Name of the venue e.g. the name of a store or restaurant\n",
    "6. Venue Latitude\n",
    "7. Venue Longitude\n",
    "8. Venue Category\n",
    "\n",
    "\n",
    "3. Results\n",
    "Map of the best 5 locations in Yuen Long\n",
    "\n",
    "The 5 best Locations are marked in the map with different colors. The blue color point is the best location I will recommend.\n",
    "\n",
    "\n",
    "\n",
    "4. Libraries which were used:\n",
    "\n",
    "Pandas: For creating and manipulating dataframes.\n",
    "\n",
    "Folium: Python visualization library would be used to visualize the neighborhoods cluster distribution of using interactive leaflet map.\n",
    "\n",
    "JSON: Library to handle JSON files.\n",
    "\n",
    "XML: To separate data from presentation and XML stores data in plain text format.\n",
    "\n",
    "Geocoder: To retrieve Location Data.\n",
    "\n",
    "\n"
   ]
  }
 ],
 "metadata": {
  "kernelspec": {
   "display_name": "Python",
   "language": "python",
   "name": "conda-env-python-py"
  },
  "language_info": {
   "codemirror_mode": {
    "name": "ipython",
    "version": 3
   },
   "file_extension": ".py",
   "mimetype": "text/x-python",
   "name": "python",
   "nbconvert_exporter": "python",
   "pygments_lexer": "ipython3",
   "version": "3.6.10"
  }
 },
 "nbformat": 4,
 "nbformat_minor": 4
}
