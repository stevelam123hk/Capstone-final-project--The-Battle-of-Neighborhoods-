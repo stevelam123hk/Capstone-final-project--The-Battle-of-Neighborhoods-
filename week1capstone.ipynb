{
 "cells": [
  {
   "cell_type": "markdown",
   "metadata": {},
   "source": [
    "### **Introduction**\n",
    "\n",
    "A friend of mine, Amy , who is a church administer, looking for a new location to build their \n",
    "\n",
    "second branch church in New Territories（Hong Kong）. She asked me \" How do I locate a position \n",
    "\n",
    "that is close to the community and the public transportation such as Mass Transit Railway(MTR) \n",
    "\n",
    ",bus stop, taxi stop as MTR. \n",
    "\n",
    "She further explains their new church location should be mainly surrounded the population, but \n",
    "\n",
    "it would be an advantage if there are some commercial properties such as restaurants, shopping \n",
    "\n",
    "malls.\n",
    "\n",
    "It happens that I am studying a Data Science cousrse on Cousera, so this could be a good chance \n",
    "\n",
    "to sharpen my technical skills.\n",
    "\n",
    "I will use FourSquare API to and select 5 best locations for my friend's new church, then she \n",
    "\n",
    "can make decisions with her pastor and other church adminsters based on my scientific findings.<br><br> \n",
    "\n",
    "### **Target the location area in Yuen Long (Within New Territories,Hong Kong)**\n",
    "\n",
    "Yuen long has been transforming into one of the more exciting areas in Hong Kong, packed with \n",
    "\n",
    "fun yet affordable activities to do,such as visiting regional park.There are many good and \n",
    "\n",
    "authentic restaurants and street food. Many Hongkongers like to come to Yuen Long from \n",
    "\n",
    "different districts to enjoy the delicious food on the weekend.   \n",
    "\n",
    "In 2019, the government survey reveals the population in Yuen Long was around 645,000 (8.7% of \n",
    "\n",
    "Hong Kong Population). With more and more commercial facilities established in Yuen Long, it is \n",
    "\n",
    "worth spending time to study this area for the new branch church options. \n",
    "\n",
    "In this this project , I will list and visualise all areas that has the most commercial \n",
    "\n",
    "properties and people in Yuen Long."
   ]
  }
 ],
 "metadata": {
  "kernelspec": {
   "display_name": "Python",
   "language": "python",
   "name": "conda-env-python-py"
  },
  "language_info": {
   "codemirror_mode": {
    "name": "ipython",
    "version": 3
   },
   "file_extension": ".py",
   "mimetype": "text/x-python",
   "name": "python",
   "nbconvert_exporter": "python",
   "pygments_lexer": "ipython3",
   "version": "3.6.10"
  }
 },
 "nbformat": 4,
 "nbformat_minor": 4
}
