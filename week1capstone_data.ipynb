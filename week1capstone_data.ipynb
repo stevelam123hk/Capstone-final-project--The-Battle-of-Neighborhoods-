{
 "cells": [
  {
   "cell_type": "markdown",
   "metadata": {},
   "source": [
    "### **Data**\n",
    "\n",
    "In this project we need the following data :\n",
    "\n",
    "Foursquare API Data:\n",
    "\n",
    "We will need data of the venues in Yuen Long neighborhoods. In order to gain that information, \n",
    "\n",
    "we will use \"Foursquare\" locational information. Foursquare is a location data provider with \n",
    "\n",
    "information about all manner of venues within an targeted area. Such information includes venue \n",
    "\n",
    "names, locations, menus and even photos. \n",
    "\n",
    "For the recommended church location in Yuen Long , I have chosen the radius to be within 1000 \n",
    "\n",
    "meter from the center of Yuen Long.\n",
    "\n",
    "The data retrieved from Foursquare contained information of venues within a specified distance \n",
    "\n",
    "of the longitude and latitude of the postcodes. The information obtained per venue as follows:\n",
    "\n",
    "1. Neighborhood\n",
    "2. Neighborhood Latitude\n",
    "3. Neighborhood Longitude\n",
    "4. Venue\n",
    "5. Name of the venue e.g. the name of a store or restaurant\n",
    "6. Venue Latitude\n",
    "7. Venue Longitude\n",
    "8. Venue Category"
   ]
  }
 ],
 "metadata": {
  "kernelspec": {
   "display_name": "Python",
   "language": "python",
   "name": "conda-env-python-py"
  },
  "language_info": {
   "codemirror_mode": {
    "name": "ipython",
    "version": 3
   },
   "file_extension": ".py",
   "mimetype": "text/x-python",
   "name": "python",
   "nbconvert_exporter": "python",
   "pygments_lexer": "ipython3",
   "version": "3.6.10"
  }
 },
 "nbformat": 4,
 "nbformat_minor": 4
}
